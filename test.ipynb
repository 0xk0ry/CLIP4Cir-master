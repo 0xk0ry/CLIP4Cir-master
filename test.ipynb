{
 "cells": [
  {
   "cell_type": "code",
   "execution_count": 2,
   "metadata": {},
   "outputs": [],
   "source": [
    "import json"
   ]
  },
  {
   "cell_type": "code",
   "execution_count": 6,
   "metadata": {},
   "outputs": [],
   "source": [
    "json_file = json.load(open('wikiart-landscape/landscape.json', 'r'))"
   ]
  },
  {
   "cell_type": "code",
   "execution_count": 7,
   "metadata": {},
   "outputs": [
    {
     "name": "stdout",
     "output_type": "stream",
     "text": [
      "{'image_path': 'albrecht-durer_view-of-the-arco-valley-in-the-tyrol-1495.jpg', 'title': 'View of the Arco Valley in the Tyrol', 'year': '1495', 'artist': 'Albrecht Durer', 'description': '[\\'A unusual place to visit with the overuse of green tones\\', \\'Seems like it is a hill area and kid of scary\\', \\'The sky is a bland gray, which makes rain a big possibility.\\', \\'The colours of the grass and the trees are dull\\', \\'The colors are dark and gloomy and looks very desolate.\\', \"the castle upon the shadowy mountaintop seems like it\\'s hiding something evil and it\\'s scary\", \\'this expanse of land of green with a hill of green grass is very sad and bitter\\']', 'art_style': 'Northern_Renaissance', 'genre': 'landscape'}\n"
     ]
    }
   ],
   "source": [
    "print(json_file[0])"
   ]
  }
 ],
 "metadata": {
  "kernelspec": {
   "display_name": "viecap",
   "language": "python",
   "name": "python3"
  },
  "language_info": {
   "codemirror_mode": {
    "name": "ipython",
    "version": 3
   },
   "file_extension": ".py",
   "mimetype": "text/x-python",
   "name": "python",
   "nbconvert_exporter": "python",
   "pygments_lexer": "ipython3",
   "version": "3.9.20"
  }
 },
 "nbformat": 4,
 "nbformat_minor": 2
}
